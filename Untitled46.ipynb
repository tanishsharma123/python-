{
  "nbformat": 4,
  "nbformat_minor": 0,
  "metadata": {
    "colab": {
      "provenance": [],
      "authorship_tag": "ABX9TyOJww/cYGxma/AI+HfDfT8K",
      "include_colab_link": true
    },
    "kernelspec": {
      "name": "python3",
      "display_name": "Python 3"
    },
    "language_info": {
      "name": "python"
    }
  },
  "cells": [
    {
      "cell_type": "markdown",
      "metadata": {
        "id": "view-in-github",
        "colab_type": "text"
      },
      "source": [
        "<a href=\"https://colab.research.google.com/github/tanishsharma123/python-/blob/main/Untitled46.ipynb\" target=\"_parent\"><img src=\"https://colab.research.google.com/assets/colab-badge.svg\" alt=\"Open In Colab\"/></a>"
      ]
    },
    {
      "cell_type": "code",
      "execution_count": 3,
      "metadata": {
        "id": "KFLU3lFdm4Y_"
      },
      "outputs": [],
      "source": [
        "# void function\n",
        "def hello():\n",
        "  print()\n",
        "  print(\"hey\")\n",
        "  print(\"regex\")"
      ]
    },
    {
      "cell_type": "code",
      "source": [
        "hello()\n",
        "hello()"
      ],
      "metadata": {
        "colab": {
          "base_uri": "https://localhost:8080/"
        },
        "id": "EZI0Ma9pnGk3",
        "outputId": "c30d46cc-961c-4382-e629-d4c1795a5760"
      },
      "execution_count": 6,
      "outputs": [
        {
          "output_type": "stream",
          "name": "stdout",
          "text": [
            "\n",
            "hey\n",
            "regex\n",
            "\n",
            "hey\n",
            "regex\n"
          ]
        }
      ]
    },
    {
      "cell_type": "code",
      "source": [
        "def hello():\n",
        "  z=\"tanish\"\n",
        "  print(\"hey\",z)"
      ],
      "metadata": {
        "id": "ETMz5DGbnVjk"
      },
      "execution_count": 9,
      "outputs": []
    },
    {
      "cell_type": "code",
      "source": [],
      "metadata": {
        "id": "g5NV9-A_n5h5"
      },
      "execution_count": 59,
      "outputs": []
    },
    {
      "cell_type": "code",
      "source": [
        "def hello(z):\n",
        "  print(\"hey\",z)"
      ],
      "metadata": {
        "id": "8oSGoTprn_Sj"
      },
      "execution_count": 11,
      "outputs": []
    },
    {
      "cell_type": "code",
      "source": [],
      "metadata": {
        "id": "XSXUOBihoWAg"
      },
      "execution_count": 59,
      "outputs": []
    },
    {
      "cell_type": "code",
      "source": [
        "xGlobal=10\n",
        "def hello():\n",
        "  print(\"hey\",xGlobal)"
      ],
      "metadata": {
        "id": "AXsCyDE4ofD9"
      },
      "execution_count": 14,
      "outputs": []
    },
    {
      "cell_type": "code",
      "source": [
        "hello()\n",
        "print(xGlobal)"
      ],
      "metadata": {
        "colab": {
          "base_uri": "https://localhost:8080/"
        },
        "id": "7TUuVLOao-mt",
        "outputId": "a90caf22-30ca-4df8-d3f3-5e3c583d78a3"
      },
      "execution_count": 15,
      "outputs": [
        {
          "output_type": "stream",
          "name": "stdout",
          "text": [
            "hey 10\n",
            "10\n"
          ]
        }
      ]
    },
    {
      "cell_type": "code",
      "source": [
        "def func(num):     #num_local=num\n",
        "  print(\"function inside:\",id(num),num)\n",
        "  num=601\n",
        "  print(\"functiom inside new:\",id(num),num)\n",
        "\n",
        "\n",
        "num=600\n",
        "print(id(num))\n",
        "func(num)\n"
      ],
      "metadata": {
        "colab": {
          "base_uri": "https://localhost:8080/"
        },
        "id": "124ptSskpDjg",
        "outputId": "fce63f10-51b5-4747-8eb3-aceb62fc7fad"
      },
      "execution_count": 17,
      "outputs": [
        {
          "output_type": "stream",
          "name": "stdout",
          "text": [
            "139387069168240\n",
            "function inside: 139387069168240 600\n",
            "functiom inside new: 139387069168144 601\n"
          ]
        }
      ]
    },
    {
      "cell_type": "code",
      "source": [
        "def func(num1):  #num_local=num\n",
        "  num1.append(30)\n",
        "\n",
        "\n",
        "num=[10,20]\n",
        "func(num)\n",
        "print(\"num num:\",num)\n"
      ],
      "metadata": {
        "colab": {
          "base_uri": "https://localhost:8080/"
        },
        "id": "TG56NwGYwzqe",
        "outputId": "e4d83f62-66a9-403a-9158-aac400fe61a6"
      },
      "execution_count": 19,
      "outputs": [
        {
          "output_type": "stream",
          "name": "stdout",
          "text": [
            "num num: [10, 20, 30]\n"
          ]
        }
      ]
    },
    {
      "cell_type": "code",
      "source": [
        "#type of argument passing"
      ],
      "metadata": {
        "id": "WwSVZcLNyxNi"
      },
      "execution_count": 22,
      "outputs": []
    },
    {
      "cell_type": "code",
      "source": [
        "def func(x,y,z):\n",
        "  print(\"x:\",x, \"y:\",y,\"z:\",z)\n",
        "\n",
        "\n",
        "func(10,20,30)    #required argument\n"
      ],
      "metadata": {
        "colab": {
          "base_uri": "https://localhost:8080/"
        },
        "id": "fs5zF4lTy_14",
        "outputId": "13c233e7-26c1-4a32-adc7-d4dc1a133ca4"
      },
      "execution_count": 24,
      "outputs": [
        {
          "output_type": "stream",
          "name": "stdout",
          "text": [
            "x: 10 y: 20 z: 30\n"
          ]
        }
      ]
    },
    {
      "cell_type": "code",
      "source": [
        "def func(x,y,z):\n",
        "  print(\"x:\",x, \"y:\",y,\"z:\",z)\n",
        "\n",
        "\n",
        "func(20,10,30)    #position argument\n"
      ],
      "metadata": {
        "colab": {
          "base_uri": "https://localhost:8080/"
        },
        "id": "C0-t5wztzjY0",
        "outputId": "32a15c12-ed78-4d8c-ca04-64e080e732c6"
      },
      "execution_count": 26,
      "outputs": [
        {
          "output_type": "stream",
          "name": "stdout",
          "text": [
            "x: 20 y: 10 z: 30\n"
          ]
        }
      ]
    },
    {
      "cell_type": "code",
      "source": [
        "def func(x,y,z):\n",
        "  print(\"x:\",x, \"y:\",y,\"z:\",z)\n",
        "\n",
        "\n",
        "func(y=20,x=10,z=30)    #keyword argument"
      ],
      "metadata": {
        "colab": {
          "base_uri": "https://localhost:8080/"
        },
        "id": "jrNtPZWn0Axq",
        "outputId": "24b41580-1926-4c66-d7e3-58ce2a30e70b"
      },
      "execution_count": 27,
      "outputs": [
        {
          "output_type": "stream",
          "name": "stdout",
          "text": [
            "x: 10 y: 20 z: 30\n"
          ]
        }
      ]
    },
    {
      "cell_type": "code",
      "source": [
        "def func(x,y,z=\"abc\"):\n",
        "  print(\"x:\",x, \"y:\",y,\"z:\",z)\n",
        "\n",
        "\n",
        "func(10,y=20,z=\"xyz\")\n",
        "\n",
        "\n",
        "\n"
      ],
      "metadata": {
        "colab": {
          "base_uri": "https://localhost:8080/"
        },
        "id": "SYuOlgXK0WU9",
        "outputId": "5ce3c864-e76a-41f3-ef40-ae4e206a0490"
      },
      "execution_count": 28,
      "outputs": [
        {
          "output_type": "stream",
          "name": "stdout",
          "text": [
            "x: 10 y: 20 z: xyz\n"
          ]
        }
      ]
    },
    {
      "cell_type": "code",
      "source": [
        "num=5\n",
        "x=0\n",
        "for i in range(2,num):\n",
        "  if num%i==0:\n",
        "    x=1\n",
        "    break\n",
        "if x==1:\n",
        "  print(\"not prime\")\n",
        "else:\n",
        "  print(\"prime\")"
      ],
      "metadata": {
        "colab": {
          "base_uri": "https://localhost:8080/"
        },
        "id": "FoM23ppD18Dm",
        "outputId": "b2c1f4a6-5166-47d6-f254-3fee7dcc2628"
      },
      "execution_count": 29,
      "outputs": [
        {
          "output_type": "stream",
          "name": "stdout",
          "text": [
            "prime\n"
          ]
        }
      ]
    },
    {
      "cell_type": "code",
      "source": [
        "def prime(num):\n",
        "  x=0\n",
        "  for i in range(2,num):\n",
        "    if num%i==0:\n",
        "      x=1\n",
        "      break\n",
        "\n",
        "  if x==1:\n",
        "    print(\"not prime\")\n",
        "  else:\n",
        "    print(\"prime\")\n",
        "\n",
        "\n",
        "\n"
      ],
      "metadata": {
        "id": "E8Hngxke3D6h"
      },
      "execution_count": 34,
      "outputs": []
    },
    {
      "cell_type": "code",
      "source": [
        "def prime(num):\n",
        "  x=0\n",
        "  for i in range(2,num):\n",
        "    if num%i==0:\n",
        "      x=1\n",
        "      break\n",
        "\n",
        "  if(x==0):\n",
        "    print(\"prime\")\n",
        "  else:\n",
        "    print(\"not prime\")\n"
      ],
      "metadata": {
        "id": "piaxZ7O53e7M"
      },
      "execution_count": 58,
      "outputs": []
    },
    {
      "cell_type": "code",
      "source": [],
      "metadata": {
        "id": "dX0mjkel3u5t"
      },
      "execution_count": 42,
      "outputs": []
    },
    {
      "cell_type": "code",
      "source": [
        "def armstrong(num):\n",
        "  temp=num\n",
        "  sum=0\n",
        "  rem=0\n",
        "  while num>0:\n",
        "    rem=num%10\n",
        "    sum=sum+rem**3\n",
        "    num=num//10\n",
        "  if temp==sum:\n",
        "    print(\"armstrong\")\n",
        "armstrong(10)"
      ],
      "metadata": {
        "id": "hT8yrdPx43rS"
      },
      "execution_count": 46,
      "outputs": []
    },
    {
      "cell_type": "code",
      "source": [
        "def  func(x):\n",
        "  print(x+10)\n",
        "  return  \"abc\""
      ],
      "metadata": {
        "id": "K-JdG1Sp5f5A"
      },
      "execution_count": 50,
      "outputs": []
    },
    {
      "cell_type": "code",
      "source": [
        "y=func(10)\n",
        "print(\"y:\",y)  #y=none"
      ],
      "metadata": {
        "colab": {
          "base_uri": "https://localhost:8080/"
        },
        "id": "404ztUfb6no-",
        "outputId": "548f82ec-2c8e-411a-c0ce-b5a40d388221"
      },
      "execution_count": 51,
      "outputs": [
        {
          "output_type": "stream",
          "name": "stdout",
          "text": [
            "20\n",
            "y: abc\n"
          ]
        }
      ]
    },
    {
      "cell_type": "code",
      "source": [],
      "metadata": {
        "id": "VLuDD5g96wcr"
      },
      "execution_count": null,
      "outputs": []
    }
  ]
}