{
  "nbformat": 4,
  "nbformat_minor": 0,
  "metadata": {
    "colab": {
      "provenance": []
    },
    "kernelspec": {
      "name": "python3",
      "display_name": "Python 3"
    },
    "language_info": {
      "name": "python"
    }
  },
  "cells": [
    {
      "cell_type": "code",
      "execution_count": null,
      "metadata": {
        "id": "GQNOENmFeHot"
      },
      "outputs": [],
      "source": [
        "data=\"regexsoftware\"\n",
        "range(0,10)\n",
        "for i in range (0,len(data)):\n",
        "  print(i,data[i])\n"
      ]
    },
    {
      "cell_type": "code",
      "source": [
        "data=abcdefijhklmnoug\n",
        "for i in range(0,len(data)):\n",
        " if(data[i]==\"a\" or data[i]==\"e\"or data[i]==\"i\" or data[i]==\"o\" or data[i]==\"u\"):\n",
        "  print(i,data[i])"
      ],
      "metadata": {
        "colab": {
          "base_uri": "https://localhost:8080/",
          "height": 106
        },
        "id": "g29h-gV8ezvT",
        "outputId": "81f2378c-0f2c-4ad0-ecc2-5790ae09892b"
      },
      "execution_count": 7,
      "outputs": [
        {
          "output_type": "error",
          "ename": "IndentationError",
          "evalue": "unindent does not match any outer indentation level (<tokenize>, line 3)",
          "traceback": [
            "\u001b[0;36m  File \u001b[0;32m\"<tokenize>\"\u001b[0;36m, line \u001b[0;32m3\u001b[0m\n\u001b[0;31m    if(data[i]==\"a\" or data[i]==\"e\"or data[i]==\"i\" or data[i]==\"o\" or data[i]==\"u\"):\u001b[0m\n\u001b[0m    ^\u001b[0m\n\u001b[0;31mIndentationError\u001b[0m\u001b[0;31m:\u001b[0m unindent does not match any outer indentation level\n"
          ]
        }
      ]
    },
    {
      "cell_type": "code",
      "source": [],
      "metadata": {
        "id": "_Fz8tCzqhGvj"
      },
      "execution_count": null,
      "outputs": []
    }
  ]
}